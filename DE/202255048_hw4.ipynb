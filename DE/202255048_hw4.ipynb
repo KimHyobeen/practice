{
 "cells": [
  {
   "cell_type": "markdown",
   "id": "640b30a5-369a-4802-8778-2f59ae0927b5",
   "metadata": {},
   "source": [
    "## 202255048 김효빈 \n",
    "### hw4:나의 조선시대 이름 찾기"
   ]
  },
  {
   "cell_type": "code",
   "execution_count": 8,
   "id": "e9670b79-88b7-4b0f-bc1c-275f965ec473",
   "metadata": {
    "tags": []
   },
   "outputs": [
    {
     "name": "stdout",
     "output_type": "stream",
     "text": [
      "당신의 조선시대 이름은 김개포입니다\n"
     ]
    }
   ],
   "source": [
    "def get_my_chosun_name(f, m, d):\n",
    "    month = ['쌍', '쇠', '복', '돌', '팽', '육', '쌍', '개', '칠', '갑', '삼', '방']\n",
    "    day = ['봉', '구', '욕', '포', '똥', '삼', '식', '석', '놈', '님', '년', '돌', '단', '득', '방', '질', '장', '걸', '래', '룡', '동', '순', '자', '박', '창', '언', '것', '포', '만', '단', '국']\n",
    "    \n",
    "    return f+month[m-1]+day[d-1]\n",
    "\n",
    "print(\"당신의 조선시대 이름은 \"+get_my_chosun_name('김',8,28)+\"입니다\")"
   ]
  }
 ],
 "metadata": {
  "kernelspec": {
   "display_name": "Python 3 (ipykernel)",
   "language": "python",
   "name": "python3"
  },
  "language_info": {
   "codemirror_mode": {
    "name": "ipython",
    "version": 3
   },
   "file_extension": ".py",
   "mimetype": "text/x-python",
   "name": "python",
   "nbconvert_exporter": "python",
   "pygments_lexer": "ipython3",
   "version": "3.11.4"
  }
 },
 "nbformat": 4,
 "nbformat_minor": 5
}
