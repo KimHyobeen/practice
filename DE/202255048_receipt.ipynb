{
 "cells": [
  {
   "cell_type": "code",
   "execution_count": 1,
   "id": "edf60325-960a-41cb-a20e-3299d74eb62f",
   "metadata": {
    "tags": []
   },
   "outputs": [],
   "source": [
    "# 202255048 김효빈\n",
    "# 과제 1 : Receipt for lovely loveseats"
   ]
  },
  {
   "cell_type": "code",
   "execution_count": 12,
   "id": "6c1075f3-5d44-4b7c-bf8e-88f3a00ffb21",
   "metadata": {
    "tags": []
   },
   "outputs": [],
   "source": [
    "lovely_loveseat_description = \" Lovely Loveseat. Tufted polyester blend on wood. 32 inches high x 40 inches wide x 30 inches deep. Red or white. \"\n",
    "lovely_loveseat_price = 254.00"
   ]
  },
  {
   "cell_type": "code",
   "execution_count": 13,
   "id": "3c9307b0-360d-4e25-8bc5-b9c25a65600f",
   "metadata": {
    "tags": []
   },
   "outputs": [],
   "source": [
    "stylish_settee_description = \" Stylish Settee. Faux leather on birch. 29.50 inches high x 54.75 inches wide x 28 inches deep. Black. \"\n",
    "stylish_settee_price = 180.50"
   ]
  },
  {
   "cell_type": "code",
   "execution_count": 14,
   "id": "89644135-c9f7-4f02-9a3f-ae317b34d20f",
   "metadata": {
    "tags": []
   },
   "outputs": [],
   "source": [
    "luxurious_lamp_description = \" Luxurious Lamp. Glass and iron. 36 inches tall. Brown with cream shade. \"\n",
    "luxurious_lamp_price = 52.15"
   ]
  },
  {
   "cell_type": "code",
   "execution_count": 9,
   "id": "affdf1ec-8b88-41cd-97ff-637014eea25d",
   "metadata": {
    "tags": []
   },
   "outputs": [],
   "source": [
    "sales_tax = .088"
   ]
  },
  {
   "cell_type": "code",
   "execution_count": 10,
   "id": "5511254c-9fee-432a-a56a-9d97ddbea26f",
   "metadata": {
    "tags": []
   },
   "outputs": [],
   "source": [
    "# first customer\n",
    "customer_one_total = 0\n",
    "customer_one_itemixation = \"\""
   ]
  },
  {
   "cell_type": "code",
   "execution_count": 11,
   "id": "7bffd0d1-1a3d-4c84-9ad0-393c7308848f",
   "metadata": {
    "tags": []
   },
   "outputs": [],
   "source": [
    "# purchase lovelyseat\n",
    "customer_one_total += lovely_loveseat_price\n",
    "customer_one_itemixation += lovely_loveseat_description"
   ]
  },
  {
   "cell_type": "code",
   "execution_count": 16,
   "id": "ee281579-1ad5-4f2b-a6a5-8893fae4efd6",
   "metadata": {
    "tags": []
   },
   "outputs": [],
   "source": [
    "# purchase lamp\n",
    "customer_one_total += luxurious_lamp_price\n",
    "customer_one_itemixation += luxurious_lamp_description"
   ]
  },
  {
   "cell_type": "code",
   "execution_count": 17,
   "id": "42a05405-17bc-4319-a287-3adaf7692fc4",
   "metadata": {
    "tags": []
   },
   "outputs": [],
   "source": [
    "# customer_one tax구하기\n",
    "customer_one_tax = customer_one_total*sales_tax"
   ]
  },
  {
   "cell_type": "code",
   "execution_count": 18,
   "id": "0c96f1a5-3a36-4ac0-8902-768ec82c8e33",
   "metadata": {
    "tags": []
   },
   "outputs": [],
   "source": [
    "customer_one_total += customer_one_tax"
   ]
  },
  {
   "cell_type": "code",
   "execution_count": 20,
   "id": "33280384-db3a-40c8-a15a-c916438e761f",
   "metadata": {
    "tags": []
   },
   "outputs": [
    {
     "name": "stdout",
     "output_type": "stream",
     "text": [
      "Customer One Items : \n",
      "Lovely Loveseat. Tufted polyester blend on wood. 32 inches high x 40 inches wide x 30 inches deep. Red or white. Luxurious Lamp. Glass and iron. 36 inches tall. Brown with cream shade.  Luxurious Lamp. Glass and iron. 36 inches tall. Brown with cream shade. \n",
      "Customer One Total:\n",
      "389.83039999999994\n"
     ]
    }
   ],
   "source": [
    "# print receipt\n",
    "print(\"Customer One Items : \")\n",
    "print(customer_one_itemixation)\n",
    "\n",
    "print(\"Customer One Total:\")\n",
    "print(customer_one_total)"
   ]
  }
 ],
 "metadata": {
  "kernelspec": {
   "display_name": "Python 3 (ipykernel)",
   "language": "python",
   "name": "python3"
  },
  "language_info": {
   "codemirror_mode": {
    "name": "ipython",
    "version": 3
   },
   "file_extension": ".py",
   "mimetype": "text/x-python",
   "name": "python",
   "nbconvert_exporter": "python",
   "pygments_lexer": "ipython3",
   "version": "3.11.4"
  }
 },
 "nbformat": 4,
 "nbformat_minor": 5
}
