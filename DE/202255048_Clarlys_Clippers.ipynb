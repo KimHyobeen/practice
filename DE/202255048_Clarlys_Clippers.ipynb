{
 "cells": [
  {
   "cell_type": "markdown",
   "id": "a55ba23e-2977-43eb-b6bf-b613cb5c144f",
   "metadata": {},
   "source": [
    "## 과제 3 : Carly's_Clippers\n",
    "#### 202255048 김효빈"
   ]
  },
  {
   "cell_type": "code",
   "execution_count": 1,
   "id": "1c4c2346-7ec8-420a-a992-924c6e7756bb",
   "metadata": {
    "tags": []
   },
   "outputs": [],
   "source": [
    "hairstyles = [\"bouffant\", \"pixie\", \"dreadlocks\", \"crew\", \"bowl\", \"bob\", \"mohawk\", \"flattop\"]\n",
    "prices = [30, 25, 40, 20, 20, 35, 50, 35]\n",
    "last_week = [2, 3, 5, 8, 4, 4, 6, 2]"
   ]
  },
  {
   "cell_type": "code",
   "execution_count": 9,
   "id": "607a7711-e2d5-4d78-954e-2544e13bc0b2",
   "metadata": {
    "tags": []
   },
   "outputs": [
    {
     "name": "stdout",
     "output_type": "stream",
     "text": [
      "Average price is  31.875\n"
     ]
    }
   ],
   "source": [
    "# Prices and Cuts\n",
    "total_price = 0\n",
    "for i in prices :\n",
    "    total_price += i\n",
    "# print(total_price)\n",
    "\n",
    "\n",
    "average_price = total_price /len(prices)\n",
    "print(\"Average price is \",average_price)"
   ]
  },
  {
   "cell_type": "code",
   "execution_count": 11,
   "id": "7b3bd046-829b-4a30-a3c7-f2b8c64cbbe4",
   "metadata": {
    "tags": []
   },
   "outputs": [
    {
     "name": "stdout",
     "output_type": "stream",
     "text": [
      "[25, 20, 35, 15, 15, 30, 45, 30]\n"
     ]
    }
   ],
   "source": [
    "new_price = [price - 5 for price in prices]\n",
    "print(new_price)"
   ]
  },
  {
   "cell_type": "code",
   "execution_count": 17,
   "id": "654f0818-dffa-4a0a-8250-6e0d4afc6829",
   "metadata": {
    "tags": []
   },
   "outputs": [
    {
     "name": "stdout",
     "output_type": "stream",
     "text": [
      "1085\n"
     ]
    }
   ],
   "source": [
    "total_revenue = 0\n",
    "\n",
    "for i in range(len(hairstyles)):\n",
    "    total_revenue += prices[i]*last_week[i]\n",
    "    \n",
    "print(total_revenue)"
   ]
  },
  {
   "cell_type": "code",
   "execution_count": 18,
   "id": "e30bd8d4-4687-4503-85f6-664a3ed027ba",
   "metadata": {
    "tags": []
   },
   "outputs": [
    {
     "name": "stdout",
     "output_type": "stream",
     "text": [
      "Average daily revenue is 155.0\n"
     ]
    }
   ],
   "source": [
    "average_daily_revenue = total_revenue/7\n",
    "print(\"Average daily revenue is\", average_daily_revenue)"
   ]
  },
  {
   "cell_type": "code",
   "execution_count": 21,
   "id": "363626a6-0614-43fb-8932-f8c2748aaf03",
   "metadata": {
    "tags": []
   },
   "outputs": [
    {
     "name": "stdout",
     "output_type": "stream",
     "text": [
      "['bouffant', 'pixie', 'crew', 'bowl']\n"
     ]
    }
   ],
   "source": [
    "cuts_under_30 = []\n",
    "\n",
    "for i in range(len(new_price)):\n",
    "    if new_price[i] < 30 :\n",
    "        cuts_under_30.append(hairstyles[i])\n",
    "        \n",
    "print(cuts_under_30)"
   ]
  }
 ],
 "metadata": {
  "kernelspec": {
   "display_name": "Python 3 (ipykernel)",
   "language": "python",
   "name": "python3"
  },
  "language_info": {
   "codemirror_mode": {
    "name": "ipython",
    "version": 3
   },
   "file_extension": ".py",
   "mimetype": "text/x-python",
   "name": "python",
   "nbconvert_exporter": "python",
   "pygments_lexer": "ipython3",
   "version": "3.11.4"
  }
 },
 "nbformat": 4,
 "nbformat_minor": 5
}
